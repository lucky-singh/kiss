{
  "nbformat": 4,
  "nbformat_minor": 0,
  "metadata": {
    "colab": {
      "name": "crop_prices.ipynb",
      "version": "0.3.2",
      "provenance": [],
      "include_colab_link": true
    },
    "kernelspec": {
      "name": "python3",
      "display_name": "Python 3"
    }
  },
  "cells": [
    {
      "cell_type": "markdown",
      "metadata": {
        "id": "view-in-github",
        "colab_type": "text"
      },
      "source": [
        "<a href=\"https://colab.research.google.com/github/lucky-singh/kiss/blob/master/crop_prices.ipynb\" target=\"_parent\"><img src=\"https://colab.research.google.com/assets/colab-badge.svg\" alt=\"Open In Colab\"/></a>"
      ]
    },
    {
      "metadata": {
        "id": "uicOGmPAFowF",
        "colab_type": "code",
        "colab": {}
      },
      "cell_type": "code",
      "source": [
        "import pandas as pd\n",
        "import xmltodict"
      ],
      "execution_count": 0,
      "outputs": []
    },
    {
      "metadata": {
        "id": "tnv6kPrx735N",
        "colab_type": "code",
        "outputId": "0db197c3-1678-49f2-e11d-307c301756b3",
        "colab": {
          "base_uri": "https://localhost:8080/",
          "height": 217
        }
      },
      "cell_type": "code",
      "source": [
        "!wget 'https://data.gov.in/sites/default/files/Paddy(Dhan)_2015.xml' -O PaddyDhan_2015.xml"
      ],
      "execution_count": 0,
      "outputs": [
        {
          "output_type": "stream",
          "text": [
            "--2019-03-13 14:25:13--  https://data.gov.in/sites/default/files/Paddy(Dhan)_2015.xml\n",
            "Resolving data.gov.in (data.gov.in)... 164.100.83.161\n",
            "Connecting to data.gov.in (data.gov.in)|164.100.83.161|:443... connected.\n",
            "HTTP request sent, awaiting response... 200 OK\n",
            "Length: unspecified [text/xml]\n",
            "Saving to: ‘PaddyDhan_2015.xml’\n",
            "\n",
            "PaddyDhan_2015.xml      [          <=>       ]  67.96M  1.11MB/s    in 62s     \n",
            "\n",
            "2019-03-13 14:26:17 (1.09 MB/s) - ‘PaddyDhan_2015.xml’ saved [71257321]\n",
            "\n"
          ],
          "name": "stdout"
        }
      ]
    },
    {
      "metadata": {
        "colab_type": "text",
        "id": "KHBbjuGL0L1H"
      },
      "cell_type": "markdown",
      "source": [
        "for node in xroot: \n",
        "    State = node.attrib.get(\"State\").text\n",
        "    District = node.find(\"District\").text\n",
        "    Market = node.find(\"Market\").text\n",
        "    Commodity = node.find(\"Commodity\").text\n",
        "    Variety = node.find(\"Variety\").text\n",
        "    Arrival_Date = node.find(\"Arrival_Date\").text\n",
        "    Min_x0020_Price = node.find(\"Min_x0020_Price\").text\n",
        "    Max_x0020_Price = node.find(\"Max_x0020_Price\").text\n",
        "    Modal_x0020_Price = node.find(\"Modal_x0020_Price\").text"
      ]
    },
    {
      "metadata": {
        "id": "UtRqKlhCdSyv",
        "colab_type": "code",
        "colab": {}
      },
      "cell_type": "code",
      "source": [
        "with open('PaddyDhan_2015.xml') as fd:\n",
        "    doc = xmltodict.parse(fd.read())"
      ],
      "execution_count": 0,
      "outputs": []
    },
    {
      "metadata": {
        "id": "aQ-_x7f0H5u1",
        "colab_type": "code",
        "outputId": "7ea2ad9e-3790-4885-8286-0de18799794a",
        "colab": {
          "base_uri": "https://localhost:8080/",
          "height": 181
        }
      },
      "cell_type": "code",
      "source": [
        "cols = []\n",
        "\n",
        "for row in doc['soap:Envelope']['soap:Body']['showResponse']['showResult']['xs:schema']['xs:element']['xs:complexType']['xs:choice']['xs:element']['xs:complexType']['xs:sequence']['xs:element']:\n",
        "    cols.append(row['@name'])\n",
        "    \n",
        "cols"
      ],
      "execution_count": 0,
      "outputs": [
        {
          "output_type": "execute_result",
          "data": {
            "text/plain": [
              "['State',\n",
              " 'District',\n",
              " 'Market',\n",
              " 'Commodity',\n",
              " 'Variety',\n",
              " 'Arrival_Date',\n",
              " 'Min_x0020_Price',\n",
              " 'Max_x0020_Price',\n",
              " 'Modal_x0020_Price']"
            ]
          },
          "metadata": {
            "tags": []
          },
          "execution_count": 4
        }
      ]
    },
    {
      "metadata": {
        "id": "EvLekuyEY1v8",
        "colab_type": "code",
        "colab": {}
      },
      "cell_type": "code",
      "source": [
        "for col in cols:\n",
        "  vars()[col]=[]"
      ],
      "execution_count": 0,
      "outputs": []
    },
    {
      "metadata": {
        "id": "K9FwugDpbHEH",
        "colab_type": "code",
        "colab": {}
      },
      "cell_type": "code",
      "source": [
        "for col in cols:\n",
        "    for row in doc['soap:Envelope']['soap:Body']['showResponse']['showResult']['diffgr:diffgram']['NewDataSet']['Table']:\n",
        "        vars()[col].append(row[col])"
      ],
      "execution_count": 0,
      "outputs": []
    },
    {
      "metadata": {
        "id": "otOlW9CvMj2p",
        "colab_type": "text"
      },
      "cell_type": "markdown",
      "source": [
        "doc['soap:Envelope']['soap:Body']['showResponse']['showResult']['diffgr:diffgram']['NewDataSet']['Table'][0].keys()"
      ]
    },
    {
      "metadata": {
        "id": "j3JUW88mN30e",
        "colab_type": "code",
        "colab": {}
      },
      "cell_type": "code",
      "source": [
        "# State = []\n",
        "# District = []\n",
        "# Market = []\n",
        "# Commodity = []\n",
        "# Variety = []\n",
        "# Arrival_Date = []\n",
        "# Min_x0020_Price = []\n",
        "# Max_x0020_Price = []\n",
        "# Modal_x0020_Price = []\n",
        "\n",
        "# for row in doc['soap:Envelope']['soap:Body']['showResponse']['showResult']['diffgr:diffgram']['NewDataSet']['Table']:\n",
        "#     State.append(row['State'])\n",
        "#     District.append(row['District'])\n",
        "#     Market.append(row['Market'])\n",
        "#     Commodity.append(row['Commodity'])\n",
        "#     Variety.append(row['Variety'])\n",
        "#     Arrival_Date.append(row['Arrival_Date'])\n",
        "#     Min_x0020_Price.append(row['Min_x0020_Price'])\n",
        "#     Max_x0020_Price.append(row['Max_x0020_Price'])\n",
        "#     Modal_x0020_Price.append(row['Modal_x0020_Price'])"
      ],
      "execution_count": 0,
      "outputs": []
    },
    {
      "metadata": {
        "id": "Hm7QEw9olm6w",
        "colab_type": "code",
        "colab": {}
      },
      "cell_type": "code",
      "source": [
        "df = pd.DataFrame()\n",
        "for col in cols:\n",
        "    df[col]  = vars()[col]"
      ],
      "execution_count": 0,
      "outputs": []
    },
    {
      "metadata": {
        "id": "557PrrT_TLK4",
        "colab_type": "code",
        "outputId": "bf1c8638-6a78-42b2-d129-94f5541568b3",
        "colab": {
          "base_uri": "https://localhost:8080/",
          "height": 198
        }
      },
      "cell_type": "code",
      "source": [
        "df.head()"
      ],
      "execution_count": 0,
      "outputs": [
        {
          "output_type": "execute_result",
          "data": {
            "text/html": [
              "<div>\n",
              "<style scoped>\n",
              "    .dataframe tbody tr th:only-of-type {\n",
              "        vertical-align: middle;\n",
              "    }\n",
              "\n",
              "    .dataframe tbody tr th {\n",
              "        vertical-align: top;\n",
              "    }\n",
              "\n",
              "    .dataframe thead th {\n",
              "        text-align: right;\n",
              "    }\n",
              "</style>\n",
              "<table border=\"1\" class=\"dataframe\">\n",
              "  <thead>\n",
              "    <tr style=\"text-align: right;\">\n",
              "      <th></th>\n",
              "      <th>State</th>\n",
              "      <th>District</th>\n",
              "      <th>Market</th>\n",
              "      <th>Commodity</th>\n",
              "      <th>Variety</th>\n",
              "      <th>Arrival_Date</th>\n",
              "      <th>Min_x0020_Price</th>\n",
              "      <th>Max_x0020_Price</th>\n",
              "      <th>Modal_x0020_Price</th>\n",
              "    </tr>\n",
              "  </thead>\n",
              "  <tbody>\n",
              "    <tr>\n",
              "      <th>0</th>\n",
              "      <td>Andhra Pradesh</td>\n",
              "      <td>Anantapur</td>\n",
              "      <td>Dharmavaram</td>\n",
              "      <td>Paddy(Dhan)</td>\n",
              "      <td>A. Ponni</td>\n",
              "      <td>28/07/2015</td>\n",
              "      <td>1300</td>\n",
              "      <td>1500</td>\n",
              "      <td>1400</td>\n",
              "    </tr>\n",
              "    <tr>\n",
              "      <th>1</th>\n",
              "      <td>Andhra Pradesh</td>\n",
              "      <td>Anantapur</td>\n",
              "      <td>Dharmavaram</td>\n",
              "      <td>Paddy(Dhan)</td>\n",
              "      <td>AST 17</td>\n",
              "      <td>08/09/2015</td>\n",
              "      <td>1600</td>\n",
              "      <td>1800</td>\n",
              "      <td>1700</td>\n",
              "    </tr>\n",
              "    <tr>\n",
              "      <th>2</th>\n",
              "      <td>Andhra Pradesh</td>\n",
              "      <td>Anantapur</td>\n",
              "      <td>Dharmavaram</td>\n",
              "      <td>Paddy(Dhan)</td>\n",
              "      <td>AST 20</td>\n",
              "      <td>01/09/2015</td>\n",
              "      <td>1300</td>\n",
              "      <td>1500</td>\n",
              "      <td>1400</td>\n",
              "    </tr>\n",
              "    <tr>\n",
              "      <th>3</th>\n",
              "      <td>Andhra Pradesh</td>\n",
              "      <td>Anantapur</td>\n",
              "      <td>Dharmavaram</td>\n",
              "      <td>Paddy(Dhan)</td>\n",
              "      <td>B P T</td>\n",
              "      <td>01/01/2015</td>\n",
              "      <td>1100</td>\n",
              "      <td>1200</td>\n",
              "      <td>1150</td>\n",
              "    </tr>\n",
              "    <tr>\n",
              "      <th>4</th>\n",
              "      <td>Andhra Pradesh</td>\n",
              "      <td>Anantapur</td>\n",
              "      <td>Dharmavaram</td>\n",
              "      <td>Paddy(Dhan)</td>\n",
              "      <td>B P T</td>\n",
              "      <td>02/01/2015</td>\n",
              "      <td>1200</td>\n",
              "      <td>1400</td>\n",
              "      <td>1300</td>\n",
              "    </tr>\n",
              "  </tbody>\n",
              "</table>\n",
              "</div>"
            ],
            "text/plain": [
              "            State   District       Market    Commodity   Variety Arrival_Date  \\\n",
              "0  Andhra Pradesh  Anantapur  Dharmavaram  Paddy(Dhan)  A. Ponni   28/07/2015   \n",
              "1  Andhra Pradesh  Anantapur  Dharmavaram  Paddy(Dhan)    AST 17   08/09/2015   \n",
              "2  Andhra Pradesh  Anantapur  Dharmavaram  Paddy(Dhan)    AST 20   01/09/2015   \n",
              "3  Andhra Pradesh  Anantapur  Dharmavaram  Paddy(Dhan)     B P T   01/01/2015   \n",
              "4  Andhra Pradesh  Anantapur  Dharmavaram  Paddy(Dhan)     B P T   02/01/2015   \n",
              "\n",
              "  Min_x0020_Price Max_x0020_Price Modal_x0020_Price  \n",
              "0            1300            1500              1400  \n",
              "1            1600            1800              1700  \n",
              "2            1300            1500              1400  \n",
              "3            1100            1200              1150  \n",
              "4            1200            1400              1300  "
            ]
          },
          "metadata": {
            "tags": []
          },
          "execution_count": 10
        }
      ]
    },
    {
      "metadata": {
        "id": "nwgY5g9davFs",
        "colab_type": "code",
        "colab": {}
      },
      "cell_type": "code",
      "source": [
        ""
      ],
      "execution_count": 0,
      "outputs": []
    }
  ]
}