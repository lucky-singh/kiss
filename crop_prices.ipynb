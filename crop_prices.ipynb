{
  "nbformat": 4,
  "nbformat_minor": 0,
  "metadata": {
    "colab": {
      "name": "crop_prices.ipynb",
      "version": "0.3.2",
      "provenance": [],
      "collapsed_sections": [],
      "include_colab_link": true
    },
    "kernelspec": {
      "name": "python3",
      "display_name": "Python 3"
    }
  },
  "cells": [
    {
      "cell_type": "markdown",
      "metadata": {
        "id": "view-in-github",
        "colab_type": "text"
      },
      "source": [
        "<a href=\"https://colab.research.google.com/github/lucky-singh/kiss/blob/master/crop_prices.ipynb\" target=\"_parent\"><img src=\"https://colab.research.google.com/assets/colab-badge.svg\" alt=\"Open In Colab\"/></a>"
      ]
    },
    {
      "metadata": {
        "id": "UCJofapiWBEl",
        "colab_type": "code",
        "outputId": "6c14561e-1a6f-403e-d546-4a263048da6f",
        "colab": {
          "base_uri": "https://localhost:8080/",
          "height": 199
        }
      },
      "cell_type": "code",
      "source": [
        "!pip install wget xmltodict"
      ],
      "execution_count": 0,
      "outputs": [
        {
          "output_type": "stream",
          "text": [
            "Collecting wget\n",
            "  Downloading https://files.pythonhosted.org/packages/47/6a/62e288da7bcda82b935ff0c6cfe542970f04e29c756b0e147251b2fb251f/wget-3.2.zip\n",
            "Collecting xmltodict\n",
            "  Downloading https://files.pythonhosted.org/packages/28/fd/30d5c1d3ac29ce229f6bdc40bbc20b28f716e8b363140c26eff19122d8a5/xmltodict-0.12.0-py2.py3-none-any.whl\n",
            "Building wheels for collected packages: wget\n",
            "  Building wheel for wget (setup.py) ... \u001b[?25ldone\n",
            "\u001b[?25h  Stored in directory: /root/.cache/pip/wheels/40/15/30/7d8f7cea2902b4db79e3fea550d7d7b85ecb27ef992b618f3f\n",
            "Successfully built wget\n",
            "Installing collected packages: wget, xmltodict\n",
            "Successfully installed wget-3.2 xmltodict-0.12.0\n"
          ],
          "name": "stdout"
        }
      ]
    },
    {
      "metadata": {
        "id": "uicOGmPAFowF",
        "colab_type": "code",
        "colab": {}
      },
      "cell_type": "code",
      "source": [
        "import pandas as pd\n",
        "import xmltodict\n",
        "import time\n",
        "import wget"
      ],
      "execution_count": 0,
      "outputs": []
    },
    {
      "metadata": {
        "id": "ANiThIAp1eh3",
        "colab_type": "text"
      },
      "cell_type": "markdown",
      "source": [
        "* Downloading files from data.gov.in using file pattern.\n",
        "* Input is given as crop, which should match with the URL in data.gov.in\n",
        "* Years are assumed from 2001 onwards"
      ]
    },
    {
      "metadata": {
        "id": "tnv6kPrx735N",
        "colab_type": "code",
        "colab": {}
      },
      "cell_type": "code",
      "source": [
        "def download_xml(crop):\n",
        "    current_year = int(time.strftime('%Y'))\n",
        "    crops = []\n",
        "    for year in range(2001, current_year + 1):\n",
        "        url = 'https://data.gov.in/sites/default/files/' + crop + '_' + str(year) + '.xml'\n",
        "        try:\n",
        "            filename = wget.download(url)\n",
        "            print(filename)\n",
        "            crops.append(filename)\n",
        "        except:\n",
        "            print('url does not exist:', url)\n",
        "    return crops"
      ],
      "execution_count": 0,
      "outputs": []
    },
    {
      "metadata": {
        "id": "9cyxHb30WSBG",
        "colab_type": "code",
        "outputId": "a034340b-6fcd-4eab-f205-794fd2537133",
        "colab": {
          "base_uri": "https://localhost:8080/",
          "height": 55
        }
      },
      "cell_type": "code",
      "source": [
        "crops = download_xml('Paddy(Dhan)')\n",
        "print(crops)"
      ],
      "execution_count": 133,
      "outputs": [
        {
          "output_type": "stream",
          "text": [
            "['Paddy(Dhan)_2001.xml', 'Paddy(Dhan)_2002.xml', 'Paddy(Dhan)_2003.xml', 'Paddy(Dhan)_2004.xml', 'Paddy(Dhan)_2005.xml', 'Paddy(Dhan)_2006.xml', 'Paddy(Dhan)_2007.xml', 'Paddy(Dhan)_2008.xml', 'Paddy(Dhan)_2009.xml', 'Paddy(Dhan)_2010.xml', 'Paddy(Dhan)_2011.xml', 'Paddy(Dhan)_2012.xml', 'Paddy(Dhan)_2013.xml', 'Paddy(Dhan)_2014.xml', 'Paddy(Dhan)_2015.xml', 'Paddy(Dhan)_2016.xml', 'Paddy(Dhan)_2017.xml', 'Paddy(Dhan)_2018.xml', 'Paddy(Dhan)_2019.xml']\n"
          ],
          "name": "stdout"
        }
      ]
    },
    {
      "metadata": {
        "colab_type": "text",
        "id": "KHBbjuGL0L1H"
      },
      "cell_type": "markdown",
      "source": [
        "for node in xroot: \n",
        "    State = node.attrib.get(\"State\").text\n",
        "    District = node.find(\"District\").text\n",
        "    Market = node.find(\"Market\").text\n",
        "    Commodity = node.find(\"Commodity\").text\n",
        "    Variety = node.find(\"Variety\").text\n",
        "    Arrival_Date = node.find(\"Arrival_Date\").text\n",
        "    Min_x0020_Price = node.find(\"Min_x0020_Price\").text\n",
        "    Max_x0020_Price = node.find(\"Max_x0020_Price\").text\n",
        "    Modal_x0020_Price = node.find(\"Modal_x0020_Price\").text"
      ]
    },
    {
      "metadata": {
        "id": "om2Nzs3zlPfF",
        "colab_type": "code",
        "colab": {}
      },
      "cell_type": "code",
      "source": [
        "dir()\n",
        "del State, District, Market, Commodity, Variety, Arrival_Date, Min_x0020_Price, Max_x0020_Price, Modal_x0020_Price"
      ],
      "execution_count": 0,
      "outputs": []
    },
    {
      "metadata": {
        "id": "UtRqKlhCdSyv",
        "colab_type": "code",
        "outputId": "ee8faf1e-3f24-426f-8bf2-cfe138b038ab",
        "colab": {
          "base_uri": "https://localhost:8080/",
          "height": 290
        }
      },
      "cell_type": "code",
      "source": [
        "crps = ['Paddy(Dhan)_2001.xml'] # To test with single crop\n",
        "# for i, crop in enumerate(crps):\n",
        "\n",
        "for i, crop in enumerate(crops):\n",
        "    with open(crop) as fd:\n",
        "        vars()[\"doc\" + str(i)] = xmltodict.parse(fd.read())\n",
        "        \n",
        "    if cols not in dir():\n",
        "        cols = []\n",
        "        for row in vars()[\"doc\" + str(i)]['soap:Envelope']['soap:Body']['showResponse']['showResult']['xs:schema']['xs:element']['xs:complexType']['xs:choice']['xs:element']['xs:complexType']['xs:sequence']['xs:element']:\n",
        "            cols.append(row['@name'])\n",
        "        \n",
        "    for col in cols:\n",
        "        if col not in dir():\n",
        "            vars()[col]=[]\n",
        "        try:\n",
        "            for row in vars()[\"doc\" + str(i)]['soap:Envelope']['soap:Body']['showResponse']['showResult']['diffgr:diffgram']['NewDataSet']['Table']:\n",
        "                try:\n",
        "                    vars()[col].append(row[col])\n",
        "                except:\n",
        "                    vars()[col].append('NaN')\n",
        "        except:\n",
        "            print(\"File is empty:\", crop)\n",
        "            continue\n",
        "    print(\"Length of dataset with\",crop, \"is\", len(vars()[col]))"
      ],
      "execution_count": 0,
      "outputs": [
        {
          "output_type": "stream",
          "text": [
            "Length of dataset with Paddy(Dhan)_2001.xml is 289\n",
            "Length of dataset with Paddy(Dhan)_2002.xml is 11301\n",
            "Length of dataset with Paddy(Dhan)_2003.xml is 43526\n",
            "Length of dataset with Paddy(Dhan)_2004.xml is 82378\n",
            "Length of dataset with Paddy(Dhan)_2005.xml is 146943\n",
            "Length of dataset with Paddy(Dhan)_2006.xml is 277826\n",
            "Length of dataset with Paddy(Dhan)_2007.xml is 411636\n",
            "Length of dataset with Paddy(Dhan)_2008.xml is 562985\n",
            "Length of dataset with Paddy(Dhan)_2009.xml is 730190\n",
            "Length of dataset with Paddy(Dhan)_2010.xml is 889689\n",
            "Length of dataset with Paddy(Dhan)_2011.xml is 1056600\n",
            "Length of dataset with Paddy(Dhan)_2012.xml is 1221580\n",
            "Length of dataset with Paddy(Dhan)_2013.xml is 1409330\n",
            "Length of dataset with Paddy(Dhan)_2014.xml is 1593966\n",
            "Length of dataset with Paddy(Dhan)_2015.xml is 1789381\n"
          ],
          "name": "stdout"
        }
      ]
    },
    {
      "metadata": {
        "id": "otOlW9CvMj2p",
        "colab_type": "text"
      },
      "cell_type": "markdown",
      "source": [
        "doc['soap:Envelope']['soap:Body']['showResponse']['showResult']['diffgr:diffgram']['NewDataSet']['Table'][0].keys()"
      ]
    },
    {
      "metadata": {
        "id": "Hm7QEw9olm6w",
        "colab_type": "code",
        "colab": {}
      },
      "cell_type": "code",
      "source": [
        "df = pd.DataFrame()\n",
        "for col in cols:\n",
        "    df[col]  = vars()[col]"
      ],
      "execution_count": 0,
      "outputs": []
    },
    {
      "metadata": {
        "id": "557PrrT_TLK4",
        "colab_type": "code",
        "outputId": "ea1f574d-ffd4-4510-c7dc-d921533d0bb3",
        "colab": {
          "base_uri": "https://localhost:8080/",
          "height": 198
        }
      },
      "cell_type": "code",
      "source": [
        "df.head()"
      ],
      "execution_count": 129,
      "outputs": [
        {
          "output_type": "execute_result",
          "data": {
            "text/html": [
              "<div>\n",
              "<style scoped>\n",
              "    .dataframe tbody tr th:only-of-type {\n",
              "        vertical-align: middle;\n",
              "    }\n",
              "\n",
              "    .dataframe tbody tr th {\n",
              "        vertical-align: top;\n",
              "    }\n",
              "\n",
              "    .dataframe thead th {\n",
              "        text-align: right;\n",
              "    }\n",
              "</style>\n",
              "<table border=\"1\" class=\"dataframe\">\n",
              "  <thead>\n",
              "    <tr style=\"text-align: right;\">\n",
              "      <th></th>\n",
              "      <th>State</th>\n",
              "      <th>District</th>\n",
              "      <th>Market</th>\n",
              "      <th>Commodity</th>\n",
              "      <th>Variety</th>\n",
              "      <th>Arrival_Date</th>\n",
              "      <th>Min_x0020_Price</th>\n",
              "      <th>Max_x0020_Price</th>\n",
              "      <th>Modal_x0020_Price</th>\n",
              "    </tr>\n",
              "  </thead>\n",
              "  <tbody>\n",
              "    <tr>\n",
              "      <th>0</th>\n",
              "      <td>Assam</td>\n",
              "      <td>Darrang</td>\n",
              "      <td>Kharupetia</td>\n",
              "      <td>Paddy(Dhan)</td>\n",
              "      <td>Paddy</td>\n",
              "      <td>20/03/2001</td>\n",
              "      <td>480</td>\n",
              "      <td>520</td>\n",
              "      <td>520</td>\n",
              "    </tr>\n",
              "    <tr>\n",
              "      <th>1</th>\n",
              "      <td>Chandigarh</td>\n",
              "      <td>Chandigarh</td>\n",
              "      <td>Chandigarh (F&amp;V)</td>\n",
              "      <td>Paddy(Dhan)</td>\n",
              "      <td>Other</td>\n",
              "      <td>18/09/2001</td>\n",
              "      <td>510</td>\n",
              "      <td>562</td>\n",
              "      <td>531</td>\n",
              "    </tr>\n",
              "    <tr>\n",
              "      <th>2</th>\n",
              "      <td>Chandigarh</td>\n",
              "      <td>Chandigarh</td>\n",
              "      <td>Chandigarh (F&amp;V)</td>\n",
              "      <td>Paddy(Dhan)</td>\n",
              "      <td>Other</td>\n",
              "      <td>19/09/2001</td>\n",
              "      <td>486</td>\n",
              "      <td>568</td>\n",
              "      <td>527</td>\n",
              "    </tr>\n",
              "    <tr>\n",
              "      <th>3</th>\n",
              "      <td>Chandigarh</td>\n",
              "      <td>Chandigarh</td>\n",
              "      <td>Chandigarh (F&amp;V)</td>\n",
              "      <td>Paddy(Dhan)</td>\n",
              "      <td>Other</td>\n",
              "      <td>20/09/2001</td>\n",
              "      <td>480</td>\n",
              "      <td>563</td>\n",
              "      <td>521</td>\n",
              "    </tr>\n",
              "    <tr>\n",
              "      <th>4</th>\n",
              "      <td>Chandigarh</td>\n",
              "      <td>Chandigarh</td>\n",
              "      <td>Chandigarh (F&amp;V)</td>\n",
              "      <td>Paddy(Dhan)</td>\n",
              "      <td>Other</td>\n",
              "      <td>21/09/2001</td>\n",
              "      <td>440</td>\n",
              "      <td>568</td>\n",
              "      <td>534</td>\n",
              "    </tr>\n",
              "  </tbody>\n",
              "</table>\n",
              "</div>"
            ],
            "text/plain": [
              "        State    District            Market    Commodity Variety Arrival_Date  \\\n",
              "0       Assam     Darrang        Kharupetia  Paddy(Dhan)   Paddy   20/03/2001   \n",
              "1  Chandigarh  Chandigarh  Chandigarh (F&V)  Paddy(Dhan)   Other   18/09/2001   \n",
              "2  Chandigarh  Chandigarh  Chandigarh (F&V)  Paddy(Dhan)   Other   19/09/2001   \n",
              "3  Chandigarh  Chandigarh  Chandigarh (F&V)  Paddy(Dhan)   Other   20/09/2001   \n",
              "4  Chandigarh  Chandigarh  Chandigarh (F&V)  Paddy(Dhan)   Other   21/09/2001   \n",
              "\n",
              "  Min_x0020_Price Max_x0020_Price Modal_x0020_Price  \n",
              "0             480             520               520  \n",
              "1             510             562               531  \n",
              "2             486             568               527  \n",
              "3             480             563               521  \n",
              "4             440             568               534  "
            ]
          },
          "metadata": {
            "tags": []
          },
          "execution_count": 129
        }
      ]
    },
    {
      "metadata": {
        "id": "BDqssNJ62K4-",
        "colab_type": "code",
        "colab": {
          "base_uri": "https://localhost:8080/",
          "height": 198
        },
        "outputId": "4d0f49fc-37ac-4a22-a919-b0e05214cd9f"
      },
      "cell_type": "code",
      "source": [
        "df.tail()"
      ],
      "execution_count": 131,
      "outputs": [
        {
          "output_type": "execute_result",
          "data": {
            "text/html": [
              "<div>\n",
              "<style scoped>\n",
              "    .dataframe tbody tr th:only-of-type {\n",
              "        vertical-align: middle;\n",
              "    }\n",
              "\n",
              "    .dataframe tbody tr th {\n",
              "        vertical-align: top;\n",
              "    }\n",
              "\n",
              "    .dataframe thead th {\n",
              "        text-align: right;\n",
              "    }\n",
              "</style>\n",
              "<table border=\"1\" class=\"dataframe\">\n",
              "  <thead>\n",
              "    <tr style=\"text-align: right;\">\n",
              "      <th></th>\n",
              "      <th>State</th>\n",
              "      <th>District</th>\n",
              "      <th>Market</th>\n",
              "      <th>Commodity</th>\n",
              "      <th>Variety</th>\n",
              "      <th>Arrival_Date</th>\n",
              "      <th>Min_x0020_Price</th>\n",
              "      <th>Max_x0020_Price</th>\n",
              "      <th>Modal_x0020_Price</th>\n",
              "    </tr>\n",
              "  </thead>\n",
              "  <tbody>\n",
              "    <tr>\n",
              "      <th>2155455</th>\n",
              "      <td>West Bengal</td>\n",
              "      <td>Nadia</td>\n",
              "      <td>Nadia</td>\n",
              "      <td>Paddy(Dhan)</td>\n",
              "      <td>Fine</td>\n",
              "      <td>23/01/2018</td>\n",
              "      <td>2030</td>\n",
              "      <td>2090</td>\n",
              "      <td>2060</td>\n",
              "    </tr>\n",
              "    <tr>\n",
              "      <th>2155456</th>\n",
              "      <td>West Bengal</td>\n",
              "      <td>Nadia</td>\n",
              "      <td>Nadia</td>\n",
              "      <td>Paddy(Dhan)</td>\n",
              "      <td>Fine</td>\n",
              "      <td>24/01/2018</td>\n",
              "      <td>2030</td>\n",
              "      <td>2090</td>\n",
              "      <td>2060</td>\n",
              "    </tr>\n",
              "    <tr>\n",
              "      <th>2155457</th>\n",
              "      <td>West Bengal</td>\n",
              "      <td>Nadia</td>\n",
              "      <td>Nadia</td>\n",
              "      <td>Paddy(Dhan)</td>\n",
              "      <td>Fine</td>\n",
              "      <td>25/01/2018</td>\n",
              "      <td>2030</td>\n",
              "      <td>2090</td>\n",
              "      <td>2060</td>\n",
              "    </tr>\n",
              "    <tr>\n",
              "      <th>2155458</th>\n",
              "      <td>West Bengal</td>\n",
              "      <td>Nadia</td>\n",
              "      <td>Nadia</td>\n",
              "      <td>Paddy(Dhan)</td>\n",
              "      <td>Fine</td>\n",
              "      <td>29/01/2018</td>\n",
              "      <td>2030</td>\n",
              "      <td>2090</td>\n",
              "      <td>2060</td>\n",
              "    </tr>\n",
              "    <tr>\n",
              "      <th>2155459</th>\n",
              "      <td>West Bengal</td>\n",
              "      <td>Nadia</td>\n",
              "      <td>Nadia</td>\n",
              "      <td>Paddy(Dhan)</td>\n",
              "      <td>Fine</td>\n",
              "      <td>30/01/2018</td>\n",
              "      <td>2030</td>\n",
              "      <td>2090</td>\n",
              "      <td>2060</td>\n",
              "    </tr>\n",
              "  </tbody>\n",
              "</table>\n",
              "</div>"
            ],
            "text/plain": [
              "               State District Market    Commodity Variety Arrival_Date  \\\n",
              "2155455  West Bengal    Nadia  Nadia  Paddy(Dhan)    Fine   23/01/2018   \n",
              "2155456  West Bengal    Nadia  Nadia  Paddy(Dhan)    Fine   24/01/2018   \n",
              "2155457  West Bengal    Nadia  Nadia  Paddy(Dhan)    Fine   25/01/2018   \n",
              "2155458  West Bengal    Nadia  Nadia  Paddy(Dhan)    Fine   29/01/2018   \n",
              "2155459  West Bengal    Nadia  Nadia  Paddy(Dhan)    Fine   30/01/2018   \n",
              "\n",
              "        Min_x0020_Price Max_x0020_Price Modal_x0020_Price  \n",
              "2155455            2030            2090              2060  \n",
              "2155456            2030            2090              2060  \n",
              "2155457            2030            2090              2060  \n",
              "2155458            2030            2090              2060  \n",
              "2155459            2030            2090              2060  "
            ]
          },
          "metadata": {
            "tags": []
          },
          "execution_count": 131
        }
      ]
    },
    {
      "metadata": {
        "id": "nwgY5g9davFs",
        "colab_type": "code",
        "colab": {
          "base_uri": "https://localhost:8080/",
          "height": 35
        },
        "outputId": "683e4f47-7a6d-49ac-82b8-9d8c83d7cc7a"
      },
      "cell_type": "code",
      "source": [
        "df.shape"
      ],
      "execution_count": 130,
      "outputs": [
        {
          "output_type": "execute_result",
          "data": {
            "text/plain": [
              "(2155460, 9)"
            ]
          },
          "metadata": {
            "tags": []
          },
          "execution_count": 130
        }
      ]
    },
    {
      "metadata": {
        "id": "qyRSIVRizMI7",
        "colab_type": "code",
        "colab": {}
      },
      "cell_type": "code",
      "source": [
        ""
      ],
      "execution_count": 0,
      "outputs": []
    }
  ]
}